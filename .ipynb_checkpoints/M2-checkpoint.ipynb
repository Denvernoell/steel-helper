{
 "cells": [
  {
   "cell_type": "markdown",
   "metadata": {},
   "source": [
    "# Combo load solver"
   ]
  },
  {
   "cell_type": "code",
   "execution_count": 3,
   "metadata": {},
   "outputs": [
    {
     "data": {
      "application/vnd.jupyter.widget-view+json": {
       "model_id": "11914e8a0d694bdbaf48d18ffb6ed778",
       "version_major": 2,
       "version_minor": 0
      },
      "text/plain": [
       "interactive(children=(IntText(value=0, description='D'), IntText(value=0, description='L_r'), IntText(value=0,…"
      ]
     },
     "metadata": {},
     "output_type": "display_data"
    },
    {
     "data": {
      "text/plain": [
       "<function combos.get_combo_loads(D, L_r, S, R, W, L)>"
      ]
     },
     "execution_count": 3,
     "metadata": {},
     "output_type": "execute_result"
    }
   ],
   "source": [
    "from combos import *\n",
    "import ipywidgets as widgets\n",
    "D = widgets.IntText(placeholder = '0',description='D')\n",
    "L_r = widgets.IntText(placeholder='0',description='L_r')\n",
    "S = widgets.IntText(placeholder='0',description='S')\n",
    "R = widgets.IntText(placeholder='0',description='R')\n",
    "W = widgets.IntText(placeholder='0',description='W')\n",
    "L = widgets.IntText(placeholder='0',description='L')\n",
    "\n",
    "widgets.interact_manual(get_combo_loads,D = D,L_r = L_r,S = S,R = R,W = W,L = L)"
   ]
  },
  {
   "cell_type": "markdown",
   "metadata": {},
   "source": [
    "# 1"
   ]
  },
  {
   "cell_type": "raw",
   "metadata": {},
   "source": [
    "LRFD\n",
    "Combonation 1 = 12.6\n",
    "Combonation 2 = 14.3\n",
    "Combonation 3 = 26.0\n",
    "Combonation 4 = 22.3\n",
    "Combonation 5 = 16.1\n",
    "max = 26.0\n",
    "max / phi = 28.9\n",
    "\n",
    "ASD\n",
    "Combonation 1 = 9.0\n",
    "Combonation 2 = 9.0\n",
    "Combonation 3 = 16.0\n",
    "Combonation 4 = 14.2\n",
    "Combonation 5 = 13.8\n",
    "Combonation 6 = 17.9\n",
    "Combonation 7 = 10.2\n",
    "max = 17.9\n",
    "max * omega = 29.8"
   ]
  },
  {
   "cell_type": "markdown",
   "metadata": {},
   "source": [
    "# 2"
   ]
  },
  {
   "cell_type": "code",
   "execution_count": null,
   "metadata": {},
   "outputs": [],
   "source": []
  },
  {
   "cell_type": "markdown",
   "metadata": {},
   "source": [
    "# 3"
   ]
  },
  {
   "cell_type": "code",
   "execution_count": null,
   "metadata": {},
   "outputs": [],
   "source": []
  },
  {
   "cell_type": "markdown",
   "metadata": {},
   "source": [
    "# 4"
   ]
  },
  {
   "cell_type": "code",
   "execution_count": null,
   "metadata": {},
   "outputs": [],
   "source": []
  }
 ],
 "metadata": {
  "kernelspec": {
   "display_name": "Python 3",
   "language": "python",
   "name": "python3"
  },
  "language_info": {
   "codemirror_mode": {
    "name": "ipython",
    "version": 3
   },
   "file_extension": ".py",
   "mimetype": "text/x-python",
   "name": "python",
   "nbconvert_exporter": "python",
   "pygments_lexer": "ipython3",
   "version": "3.8.5"
  }
 },
 "nbformat": 4,
 "nbformat_minor": 4
}
