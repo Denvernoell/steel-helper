{
 "cells": [
  {
   "cell_type": "code",
   "execution_count": 3,
   "metadata": {},
   "outputs": [],
   "source": [
    "from M1_equations import *\n",
    "import pint\n",
    "u = pint.UnitRegistry()\n",
    "Q = u.Quantity"
   ]
  },
  {
   "cell_type": "markdown",
   "metadata": {},
   "source": [
    "# Problem 1"
   ]
  },
  {
   "cell_type": "code",
   "execution_count": 11,
   "metadata": {},
   "outputs": [
    {
     "name": "stdout",
     "output_type": "stream",
     "text": [
      "F_u = 49.5 kilopound / inch ** 2\n",
      "e = 6.98 dimensionless %\n",
      "Reduction = -65.3 dimensionless %\n"
     ]
    }
   ],
   "source": [
    "diameter_i = 0.9 * u.inch\n",
    "length_i = 2.15 * u.inch\n",
    "fracture_load = 31_500 * u.lb\n",
    "diameter_f = 0.53 * u.inch\n",
    "length_f = 2.3 * u.inch\n",
    "\n",
    "a_i = circular_area(diameter_i)\n",
    "a_f = circular_area(diameter_f)\n",
    "\n",
    "F_u = ultimate_force(fracture_load,a_i)\n",
    "# F_u = psi_ksi(F_u)\n",
    "e = elongation(length_i,length_f)\n",
    "reduction = area_reduction(a_i,a_f)\n",
    "\n",
    "print(f\"F_u = {F_u.to_compact():.3}\")\n",
    "print(f\"e = {e:.3} %\")\n",
    "print(f\"Reduction = {reduction:.3} %\")\n"
   ]
  },
  {
   "cell_type": "markdown",
   "metadata": {},
   "source": [
    "# Problem 2"
   ]
  },
  {
   "cell_type": "code",
   "execution_count": 14,
   "metadata": {},
   "outputs": [
    {
     "name": "stdout",
     "output_type": "stream",
     "text": [
      "E = 2.35e+04 kip / inch ** 2\n"
     ]
    }
   ],
   "source": [
    "diameter_i = .5 * u.inch\n",
    "length_i = 2 * u.inch\n",
    "load = 13.5 * u.kip\n",
    "length_change = 5.86e-3 * u.inch\n",
    "\n",
    "A = circular_area(diameter_i)\n",
    "length_f = length_i + length_change\n",
    "f = stress(load,A)\n",
    "e = strain(length_i,length_f)\n",
    "E = (modulus_elasticity(f,e))\n",
    "\n",
    "\n",
    "print(f\"E = {E:.3}\")\n",
    "\n"
   ]
  },
  {
   "cell_type": "markdown",
   "metadata": {},
   "source": [
    "# Problem 3"
   ]
  },
  {
   "cell_type": "code",
   "execution_count": 15,
   "metadata": {},
   "outputs": [
    {
     "data": {
      "text/html": [
       "<div>\n",
       "<style scoped>\n",
       "    .dataframe tbody tr th:only-of-type {\n",
       "        vertical-align: middle;\n",
       "    }\n",
       "\n",
       "    .dataframe tbody tr th {\n",
       "        vertical-align: top;\n",
       "    }\n",
       "\n",
       "    .dataframe thead th {\n",
       "        text-align: right;\n",
       "    }\n",
       "</style>\n",
       "<table border=\"1\" class=\"dataframe\">\n",
       "  <thead>\n",
       "    <tr style=\"text-align: right;\">\n",
       "      <th></th>\n",
       "      <th>Load</th>\n",
       "      <th>Strain(x10^6)</th>\n",
       "    </tr>\n",
       "  </thead>\n",
       "  <tbody>\n",
       "    <tr>\n",
       "      <th>0</th>\n",
       "      <td>0</td>\n",
       "      <td>0.0</td>\n",
       "    </tr>\n",
       "    <tr>\n",
       "      <th>1</th>\n",
       "      <td>250</td>\n",
       "      <td>37.1</td>\n",
       "    </tr>\n",
       "    <tr>\n",
       "      <th>2</th>\n",
       "      <td>500</td>\n",
       "      <td>70.3</td>\n",
       "    </tr>\n",
       "    <tr>\n",
       "      <th>3</th>\n",
       "      <td>1000</td>\n",
       "      <td>129.1</td>\n",
       "    </tr>\n",
       "    <tr>\n",
       "      <th>4</th>\n",
       "      <td>1500</td>\n",
       "      <td>230.1</td>\n",
       "    </tr>\n",
       "  </tbody>\n",
       "</table>\n",
       "</div>"
      ],
      "text/plain": [
       "   Load  Strain(x10^6)\n",
       "0     0            0.0\n",
       "1   250           37.1\n",
       "2   500           70.3\n",
       "3  1000          129.1\n",
       "4  1500          230.1"
      ]
     },
     "execution_count": 15,
     "metadata": {},
     "output_type": "execute_result"
    }
   ],
   "source": [
    "import pandas as pd\n",
    "from matplotlib import pyplot as plt\n",
    "\n",
    "diameter_i = 0.510 * u.inch\n",
    "\n",
    "A = circular_area(diameter_i)\n",
    "\n",
    "df = pd.read_excel(\"Problem3.xlsx\")\n",
    "df.head()"
   ]
  },
  {
   "cell_type": "code",
   "execution_count": 20,
   "metadata": {},
   "outputs": [
    {
     "name": "stdout",
     "output_type": "stream",
     "text": [
      "0.0\n",
      "1.22e+03\n",
      "2.45e+03\n",
      "4.9e+03\n",
      "7.34e+03\n",
      "9.79e+03\n",
      "1.22e+04\n",
      "1.47e+04\n",
      "1.71e+04\n"
     ]
    }
   ],
   "source": [
    "#a\n",
    "df['stress'] = (df['Load']/A)\n",
    "for stress in df['stress']:\n",
    "    print(f\"{stress:.3}\")\n",
    "\n",
    "\n"
   ]
  },
  {
   "cell_type": "code",
   "execution_count": 18,
   "metadata": {},
   "outputs": [
    {
     "data": {
      "image/png": "[encoded data removed]",
      "text/plain": [
       "<Figure size 432x288 with 1 Axes>"
      ]
     },
     "metadata": {
      "needs_background": "light"
     },
     "output_type": "display_data"
    },
    {
     "name": "stdout",
     "output_type": "stream",
     "text": [
      "E = 3.01e+04\n"
     ]
    }
   ],
   "source": [
    "#b\n",
    "import numpy as np\n",
    "df['strain'] = df['Strain(x10^6)'] * 1e-6\n",
    "df.head\n",
    "strain = df['strain']\n",
    "stress = df['stress']\n",
    "\n",
    "plt.plot(strain,stress)\n",
    "plt.xlabel(\"stress\")\n",
    "plt.ylabel(\"strain\")\n",
    "plt.show()\n",
    "\n",
    "slope,intercept = np.polyfit(strain,stress,1)\n",
    "slope = psi_ksi(slope)\n",
    "print(f\"E = {slope:.3}\")"
   ]
  }
 ],
 "metadata": {
  "kernelspec": {
   "display_name": "Python 3",
   "language": "python",
   "name": "python3"
  },
  "language_info": {
   "codemirror_mode": {
    "name": "ipython",
    "version": 3
   },
   "file_extension": ".py",
   "mimetype": "text/x-python",
   "name": "python",
   "nbconvert_exporter": "python",
   "pygments_lexer": "ipython3",
   "version": "3.8.5"
  }
 },
 "nbformat": 4,
 "nbformat_minor": 4
}
