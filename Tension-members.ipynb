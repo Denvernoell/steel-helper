{
 "cells": [
  {
   "cell_type": "markdown",
   "metadata": {},
   "source": [
    "# Tension member strength finder\n",
    "Enter loads and press **Run Interact**"
   ]
  },
  {
   "cell_type": "code",
   "execution_count": 1,
   "metadata": {},
   "outputs": [],
   "source": [
    "#from M3_equations import *"
   ]
  },
  {
   "cell_type": "code",
   "execution_count": 2,
   "metadata": {},
   "outputs": [],
   "source": [
    "import pint\n",
    "u = pint.UnitRegistry()\n",
    "Q = u.Quantity\n",
    "\n",
    "def convert_to_float(frac_str):\n",
    "    try:\n",
    "        return float(frac_str)\n",
    "    except ValueError:\n",
    "        num, denom = frac_str.split('/')\n",
    "        try:\n",
    "            leading, num = num.split(' ')\n",
    "            whole = float(leading)\n",
    "        except ValueError:\n",
    "            whole = 0\n",
    "        frac = float(num) / float(denom)\n",
    "        return whole - frac if whole < 0 else whole + frac\n",
    "\n",
    "def hole_size(bolt_size):\n",
    "    if bolt_size < 1 * u.inch:\n",
    "        return bolt_size + 1/8 * u.inch\n",
    "    else:\n",
    "        return bolt_size + 3/16 * u.inch\n",
    "\n",
    "def design_strength(system,strength,load_type):\n",
    "    if system == \"LRFD\":\n",
    "        if load_type == \"yield\":\n",
    "            return 0.9 * strength\n",
    "        if load_type == \"rupture\":\n",
    "            return 0.75 * strength\n",
    "    if system == \"ASD\":\n",
    "            if load_type == \"yield\":\n",
    "                return 0.6 * strength\n",
    "            if load_type == \"rupture\":\n",
    "                return 0.5 * strength\n",
    "\n",
    "def tension_members(w_plate,h_plate,F_y,F_u,A_g,num_holes,bolt_size,effective_factor):\n",
    "    w_plate = convert_to_float(w_plate) * u.inch\n",
    "    h_plate *= u.inch\n",
    "    # steel = \"A36\"\n",
    "    #from steel bible\n",
    "    F_y *= u.kips\n",
    "    F_u *= u.kips\n",
    "    A_g *= u.inch * u.inch\n",
    "\n",
    "    #num_holes = 2\n",
    "    bolt_size = convert_to_float(bolt_size) * u.inch\n",
    "\n",
    "    #effective_factor\n",
    "    \n",
    "\n",
    "    \n",
    "    if A_g == 0:\n",
    "#         print(w_plate)\n",
    "#         print(h_plate)\n",
    "        A_g =  w_plate * h_plate\n",
    "    A_g\n",
    "\n",
    "    d_hole = hole_size(bolt_size)\n",
    "    A_hole = w_plate * d_hole\n",
    "\n",
    "    print(f\"d_hole = {d_hole:.3}\")\n",
    "    print(f\"A_hole = {A_hole:.3}\")\n",
    "\n",
    "    #holes = 4, 5/8 * u.inch\n",
    "\n",
    "    #Nominal strength\n",
    "\n",
    "    #F_y = 36 * u.lbs\n",
    "    P_n_gross = F_y * A_g\n",
    "\n",
    "    print(f\"Nominal strength gross= {P_n_gross}\")\n",
    "\n",
    "    #For rupture of the net section\n",
    "\n",
    "    A_holes = A_hole * num_holes\n",
    "    # print(A_holes)\n",
    "    A_n = A_g - A_holes\n",
    "    A_n\n",
    "\n",
    "    A_e = A_n\n",
    "    # F_u = F_y\n",
    "    P_n_net = F_u * A_e \n",
    "    #assume effective net area is 85% of computed net area\n",
    "    P_n_net *= effective_factor\n",
    "    print(f\"Nominal strength net = {P_n_net:.3}\")\n",
    "\n",
    "    #`design_strength(system,strength,load_type)`\n",
    "    print(\"\\nLRFD design strength\")\n",
    "    LRFD_y = design_strength(\"LRFD\",P_n_gross,\"yield\")\n",
    "    LRFD_r = design_strength(\"LRFD\",P_n_net,\"rupture\")\n",
    "\n",
    "    print(f\"Yield strength = {LRFD_y:.3}\")\n",
    "    print(f\"Rupture strength = {LRFD_r:.3}\")\n",
    "    \n",
    "    print(\"\\nASD allowable strength\")\n",
    "    ASD_y = design_strength(\"ASD\",P_n_gross,\"yield\")\n",
    "    ASD_r = design_strength(\"ASD\",P_n_net,\"rupture\")\n",
    "\n",
    "    print(f\"Yeild strength = {ASD_y:.3}\")\n",
    "    print(f\"Rupture strength = {ASD_r:.3}\")\n"
   ]
  },
  {
   "cell_type": "raw",
   "metadata": {},
   "source": [
    "`def tension_members(w_plate,h_plate,F_y,F_u,A_g,num_holes,bolt_size,effective_factor):`"
   ]
  },
  {
   "cell_type": "raw",
   "metadata": {},
   "source": [
    "\n",
    "w_plate = (str(1/2))\n",
    "h_plate = (5)\n",
    "# steel = \"A36\"\n",
    "#from steel bible\n",
    "A_g = 0\n",
    "F_y = 36 \n",
    "F_u = 58 \n",
    "\n",
    "\n",
    "num_holes = 2\n",
    "bolt_size = str(5/8 )\n",
    "\n",
    "effective_factor = 1\n",
    "tension_members(w_plate,h_plate,F_y,F_u,A_g,num_holes,bolt_size,effective_factor)\n"
   ]
  },
  {
   "cell_type": "code",
   "execution_count": 3,
   "metadata": {},
   "outputs": [
    {
     "name": "stdout",
     "output_type": "stream",
     "text": [
      "\n",
      "Notes\n",
      "   h_plate - Enter 0 if entering A_g\n",
      "   A_g - Enter 0 if entering h_plate\n",
      "   F_y,F_u - Get from Steel Bible\n",
      "\n"
     ]
    },
    {
     "data": {
      "application/vnd.jupyter.widget-view+json": {
       "model_id": "637643b2192b480e968757aac382096b",
       "version_major": 2,
       "version_minor": 0
      },
      "text/plain": [
       "interactive(children=(Text(value='', description='w_plate (inch)', placeholder='0'), BoundedFloatText(value=0.…"
      ]
     },
     "metadata": {},
     "output_type": "display_data"
    },
    {
     "data": {
      "text/plain": [
       "<function __main__.tension_members(w_plate, h_plate, F_y, F_u, A_g, num_holes, bolt_size, effective_factor)>"
      ]
     },
     "execution_count": 3,
     "metadata": {},
     "output_type": "execute_result"
    }
   ],
   "source": [
    "import ipywidgets as widgets\n",
    "print(\"\"\"\n",
    "Notes\n",
    "   h_plate - Enter 0 if entering A_g\n",
    "   A_g - Enter 0 if entering h_plate\n",
    "   F_y,F_u - Get from Steel Bible\n",
    "\"\"\")\n",
    "\n",
    "w_plate = widgets.Text(placeholder = '0',description='w_plate (inch)')\n",
    "\n",
    "h_plate = widgets.BoundedFloatText(placeholder='0',description='h_plate (inch)',step=1)\n",
    "\n",
    "F_y = widgets.BoundedFloatText(placeholder='0',description='F_y (kip)',step=1)\n",
    "F_u = widgets.BoundedFloatText(placeholder='0',description='F_u (kip)',step=1)\n",
    "A_g = widgets.BoundedFloatText(placeholder='0',description='A_g (inch ^ 2)',step=1)\n",
    "num_holes = widgets.BoundedFloatText(placeholder='0',description='num_holes',step=1)\n",
    "bolt_size = widgets.Text(placeholder='0',description='bolt_size (inch)',step=1)\n",
    "effective_factor = widgets.BoundedFloatText(placeholder='0',description='effective_factor',step=1,value = 1)\n",
    "\n",
    "widgets.interact_manual(tension_members,w_plate = w_plate,h_plate = h_plate,A_g = A_g,F_y = F_y,F_u = F_u\n",
    "                        ,num_holes = num_holes,bolt_size = bolt_size,effective_factor = effective_factor )"
   ]
  },
  {
   "cell_type": "code",
   "execution_count": null,
   "metadata": {},
   "outputs": [],
   "source": []
  },
  {
   "cell_type": "code",
   "execution_count": null,
   "metadata": {},
   "outputs": [],
   "source": []
  },
  {
   "cell_type": "code",
   "execution_count": null,
   "metadata": {},
   "outputs": [],
   "source": []
  }
 ],
 "metadata": {
  "kernelspec": {
   "display_name": "Python 3",
   "language": "python",
   "name": "python3"
  },
  "language_info": {
   "codemirror_mode": {
    "name": "ipython",
    "version": 3
   },
   "file_extension": ".py",
   "mimetype": "text/x-python",
   "name": "python",
   "nbconvert_exporter": "python",
   "pygments_lexer": "ipython3",
   "version": "3.8.5"
  }
 },
 "nbformat": 4,
 "nbformat_minor": 4
}
