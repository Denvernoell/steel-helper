{
 "cells": [
  {
   "cell_type": "markdown",
   "metadata": {},
   "source": [
    "# Combination load finder\n",
    "Enter loads and press **Run Interact**"
   ]
  },
  {
   "cell_type": "code",
   "execution_count": 1,
   "metadata": {},
   "outputs": [],
   "source": [
    "\n",
    "def Combo_Load(load_type,combo,D = 0,L = 0,L_r = 0,S = 0,R = 0,W = 0):\n",
    "    if load_type == \"LRFD\":\n",
    "        if combo == 1:\n",
    "            return 1.4 * D\n",
    "        elif combo == 2:\n",
    "            return 1.2 * D + 1.6 * L + 0.5 * (max(L_r,S,R))\n",
    "        elif combo == 3:\n",
    "            return 1.2 * D + 1.6 * max(L_r, S, R) + max(0.5*L, 0.5 * W)\n",
    "        elif combo == 4:\n",
    "            return 1.2 * D + 1.0 * W + 1.0 * L + 0.5 * max(L_r, S, R)\n",
    "        elif combo == 5:\n",
    "            return 0.9 * D + 1.0 * W \n",
    "        \n",
    "    if load_type == \"ASD\":\n",
    "        if combo == 1:\n",
    "            return D\n",
    "\n",
    "        elif combo == 2:\n",
    "            return D + L\n",
    "\n",
    "        elif combo == 3:\n",
    "            return D + max(L_r, S, R)\n",
    "\n",
    "        elif combo == 4:\n",
    "            return D + 0.75 * L + 0.75 * max(L_r, S, R)\n",
    "\n",
    "        elif combo == 5:\n",
    "            return D + 0.6 * W \n",
    "\n",
    "        elif combo == 6:\n",
    "            return D + 0.75 * L + 0.75 * 0.6 * W + 0.75 * max(L_r,S,R) \n",
    "\n",
    "        elif combo == 7:\n",
    "            return 0.6 * D + 0.6 * W"
   ]
  },
  {
   "cell_type": "code",
   "execution_count": 2,
   "metadata": {},
   "outputs": [],
   "source": [
    "\n",
    "def get_combo_loads(D,L_r,S,R,W,L):\n",
    "    omega = 1.67\n",
    "    phi = 0.9\n",
    "    mymax = 0\n",
    "    \n",
    "#     LRFD\n",
    "    print(\"LRFD\")\n",
    "    for i in range(1,6):\n",
    "        combo_value_LRFD = Combo_Load(\"LRFD\",i,D,L,L_r,S,R,W)\n",
    "        \n",
    "        print(f\"Combonation {i} = {(combo_value_LRFD):.3}\")\n",
    "        if combo_value_LRFD > mymax:\n",
    "            mymax = combo_value_LRFD\n",
    "    print(f\"max = {mymax:.3}\")\n",
    "    print(f\"max / phi = {(mymax / phi):.3}\")\n",
    "    \n",
    "    \n",
    "    mymax = 0\n",
    "    print(\"\")\n",
    "    print(\"ASD\")\n",
    "    for i in range(1,8):\n",
    "        combo_value_ASD = float(Combo_Load(\"ASD\",i,D,L,L_r,S,R,W))\n",
    "        \n",
    "        print(f\"Combonation {i} = {(combo_value_ASD):.3}\")\n",
    "        if combo_value_ASD > mymax:\n",
    "            mymax = combo_value_ASD\n",
    "    print(f\"max = {mymax:.3}\")\n",
    "    print(f\"max * omega = {(mymax * omega):.3}\")"
   ]
  },
  {
   "cell_type": "code",
   "execution_count": 3,
   "metadata": {},
   "outputs": [
    {
     "data": {
      "application/vnd.jupyter.widget-view+json": {
       "model_id": "af3096bd86024b88b817ea7812c637cd",
       "version_major": 2,
       "version_minor": 0
      },
      "text/plain": [
       "interactive(children=(BoundedFloatText(value=0.0, description='D', step=1.0), BoundedFloatText(value=0.0, desc…"
      ]
     },
     "metadata": {},
     "output_type": "display_data"
    },
    {
     "data": {
      "text/plain": [
       "<function __main__.get_combo_loads(D, L_r, S, R, W, L)>"
      ]
     },
     "execution_count": 3,
     "metadata": {},
     "output_type": "execute_result"
    }
   ],
   "source": [
    "import ipywidgets as widgets\n",
    "D = widgets.BoundedFloatText(placeholder = '0',description='D',step=1)\n",
    "L_r = widgets.BoundedFloatText(placeholder='0',description='L_r',step=1)\n",
    "S = widgets.BoundedFloatText(placeholder='0',description='S',step=1)\n",
    "R = widgets.BoundedFloatText(placeholder='0',description='R',step=1)\n",
    "W = widgets.BoundedFloatText(placeholder='0',description='W',step=1)\n",
    "L = widgets.BoundedFloatText(placeholder='0',description='L',step=1)\n",
    "\n",
    "widgets.interact_manual(get_combo_loads,D = D,L_r = L_r,S = S,R = R,W = W,L = L)\n"
   ]
  }
 ],
 "metadata": {
  "kernelspec": {
   "display_name": "Python 3",
   "language": "python",
   "name": "python3"
  },
  "language_info": {
   "codemirror_mode": {
    "name": "ipython",
    "version": 3
   },
   "file_extension": ".py",
   "mimetype": "text/x-python",
   "name": "python",
   "nbconvert_exporter": "python",
   "pygments_lexer": "ipython3",
   "version": "3.8.5"
  }
 },
 "nbformat": 4,
 "nbformat_minor": 4
}
