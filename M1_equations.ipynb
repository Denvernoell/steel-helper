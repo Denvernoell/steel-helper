{
 "cells": [
  {
   "cell_type": "code",
   "execution_count": 1,
   "metadata": {},
   "outputs": [],
   "source": [
    "from math import pi\n",
    "\n",
    "def circular_area(diameter):\n",
    "    # Takes diameter and converts to area of circle\n",
    "    return (pi * diameter ** 2) /4\n",
    "\n",
    "def ultimate_force(P_u,area):\n",
    "    # \n",
    "    return P_u/area\n",
    "\n",
    "def elongation(L_f,L_i):\n",
    "    # takes initial length and final length to find elongation as a percent\n",
    "    return (L_f - L_i) / L_i * 100\n",
    "\n",
    "def area_reduction(A_f,A_i):\n",
    "    # takes initial and final area to find area reduction as a percent\n",
    "    return (A_f - A_i) / A_i * 100\n",
    "\n",
    "def psi_ksi(psi):\n",
    "    return psi / 1_000\n",
    "\n",
    "def stress(P,A):\n",
    "    return(P/A)\n",
    "\n",
    "def strain(L_i,L_f):\n",
    "    return (L_f - L_i)/L_i\n",
    "\n",
    "def modulus_elasticity(stress,strain):\n",
    "    return stress / strain"
   ]
  }
 ],
 "metadata": {
  "kernelspec": {
   "display_name": "Python 3",
   "language": "python",
   "name": "python3"
  },
  "language_info": {
   "codemirror_mode": {
    "name": "ipython",
    "version": 3
   },
   "file_extension": ".py",
   "mimetype": "text/x-python",
   "name": "python",
   "nbconvert_exporter": "python",
   "pygments_lexer": "ipython3",
   "version": "3.8.5"
  }
 },
 "nbformat": 4,
 "nbformat_minor": 4
}
