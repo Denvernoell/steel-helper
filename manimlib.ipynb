{
 "cells": [
  {
   "cell_type": "code",
   "execution_count": 1,
   "metadata": {},
   "outputs": [
    {
     "ename": "ModuleNotFoundError",
     "evalue": "No module named 'manimlib'",
     "output_type": "error",
     "traceback": [
      "\u001b[0;31m---------------------------------------------------------------------------\u001b[0m",
      "\u001b[0;31mModuleNotFoundError\u001b[0m                       Traceback (most recent call last)",
      "\u001b[0;32m<ipython-input-1-ee03056332db>\u001b[0m in \u001b[0;36m<module>\u001b[0;34m\u001b[0m\n\u001b[0;32m----> 1\u001b[0;31m \u001b[0;32mfrom\u001b[0m \u001b[0mmanimlib\u001b[0m\u001b[0;34m.\u001b[0m\u001b[0mimports\u001b[0m \u001b[0;32mimport\u001b[0m \u001b[0;34m*\u001b[0m\u001b[0;34m\u001b[0m\u001b[0;34m\u001b[0m\u001b[0m\n\u001b[0m\u001b[1;32m      2\u001b[0m \u001b[0;32mclass\u001b[0m \u001b[0mAnimatingMethods\u001b[0m\u001b[0;34m(\u001b[0m\u001b[0mScene\u001b[0m\u001b[0;34m)\u001b[0m\u001b[0;34m:\u001b[0m\u001b[0;34m\u001b[0m\u001b[0;34m\u001b[0m\u001b[0m\n\u001b[1;32m      3\u001b[0m     \u001b[0;32mdef\u001b[0m \u001b[0mconstruct\u001b[0m\u001b[0;34m(\u001b[0m\u001b[0mself\u001b[0m\u001b[0;34m)\u001b[0m\u001b[0;34m:\u001b[0m\u001b[0;34m\u001b[0m\u001b[0;34m\u001b[0m\u001b[0m\n\u001b[1;32m      4\u001b[0m         \u001b[0mgrid\u001b[0m \u001b[0;34m=\u001b[0m \u001b[0mTex\u001b[0m\u001b[0;34m(\u001b[0m\u001b[0;34mr\"\\pi\"\u001b[0m\u001b[0;34m)\u001b[0m\u001b[0;34m.\u001b[0m\u001b[0mget_grid\u001b[0m\u001b[0;34m(\u001b[0m\u001b[0;36m10\u001b[0m\u001b[0;34m,\u001b[0m \u001b[0;36m10\u001b[0m\u001b[0;34m,\u001b[0m \u001b[0mheight\u001b[0m\u001b[0;34m=\u001b[0m\u001b[0;36m4\u001b[0m\u001b[0;34m)\u001b[0m\u001b[0;34m\u001b[0m\u001b[0;34m\u001b[0m\u001b[0m\n\u001b[1;32m      5\u001b[0m         \u001b[0mself\u001b[0m\u001b[0;34m.\u001b[0m\u001b[0madd\u001b[0m\u001b[0;34m(\u001b[0m\u001b[0mgrid\u001b[0m\u001b[0;34m)\u001b[0m\u001b[0;34m\u001b[0m\u001b[0;34m\u001b[0m\u001b[0m\n",
      "\u001b[0;31mModuleNotFoundError\u001b[0m: No module named 'manimlib'"
     ]
    }
   ],
   "source": [
    "from manimlib.imports import *\n",
    "class AnimatingMethods(Scene):\n",
    "    def construct(self):\n",
    "        grid = Tex(r\"\\pi\").get_grid(10, 10, height=4)\n",
    "        self.add(grid)\n",
    "\n",
    "        # If you pass in a mobject method to the scene's \"play\" function,\n",
    "        # it will apply an animation interpolating between the mobject's\n",
    "        # initial state and whatever happens when you apply that method.\n",
    "        # For example, calling grid.shift(2 * LEFT) would shift it two units\n",
    "        # to the left, but the following line animates that motion.\n",
    "        self.play(grid.shift, 2 * LEFT)\n",
    "        # The same applies for any method, including those setting colors.\n",
    "        self.play(grid.set_submobject_colors_by_gradient, BLUE, GREEN)\n",
    "        self.play(grid.set_height, TAU - MED_SMALL_BUFF)\n",
    "        self.wait()\n",
    "\n",
    "        # The method Mobject.apply_complex_function lets you apply arbitrary\n",
    "        # complex functions, treating the points defining the mobject as\n",
    "        # complex numbers.\n",
    "        self.play(grid.apply_complex_function, np.exp, run_time=5)\n",
    "        self.wait()\n",
    "\n",
    "        # Even more generally, you could apply Mobject.apply_function,\n",
    "        # which takes in functions form R^3 to R^3\n",
    "        self.play(\n",
    "            grid.apply_function,\n",
    "            lambda p: [\n",
    "                p[0] + 0.5 * math.sin(p[1]),\n",
    "                p[1] + 0.5 * math.sin(p[0]),\n",
    "                p[2]\n",
    "            ],\n",
    "            run_time=5,\n",
    "        )\n",
    "        self.wait()"
   ]
  }
 ],
 "metadata": {
  "kernelspec": {
   "display_name": "Python 3",
   "language": "python",
   "name": "python3"
  },
  "language_info": {
   "codemirror_mode": {
    "name": "ipython",
    "version": 3
   },
   "file_extension": ".py",
   "mimetype": "text/x-python",
   "name": "python",
   "nbconvert_exporter": "python",
   "pygments_lexer": "ipython3",
   "version": "3.8.5"
  }
 },
 "nbformat": 4,
 "nbformat_minor": 4
}
