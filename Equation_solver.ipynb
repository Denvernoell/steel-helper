{
 "cells": [
  {
   "cell_type": "code",
   "execution_count": 5,
   "metadata": {},
   "outputs": [],
   "source": [
    "from math import *\n",
    "import os\n",
    "from sympy import symbols, Eq, solve, pprint, Symbol\n",
    "#from sympy import *\n",
    "\n",
    "\n",
    "\n",
    "def eqn_solver():\n",
    "    Vars = []\n",
    "\n",
    "    varsused = input(\"Variables seperated by spaces: \")\n",
    "    myVars = varsused.split(\" \")\n",
    "    numEqns = len(myVars)\n",
    "    for myvar in myVars:\n",
    "        myvar = Symbol(str(myvar))\n",
    "        Vars.append(myvar)\n",
    "\n",
    "    myEqns = []\n",
    "    Eqn = []\n",
    "\n",
    "    i = 1\n",
    "    while i < numEqns+1:\n",
    "        print(\"a\")\n",
    "        eqn = input(f\"Eqn{i}: \")\n",
    "        if eqn.find(\"=\") == -1:\n",
    "            lhs,rhs = eqn,0\n",
    "        else:\n",
    "            lhs,rhs = eqn.split(\"=\")\n",
    "\n",
    "        myEqns.append(f\"Eq({lhs},{rhs})\")\n",
    "\n",
    "        i = i+1\n",
    "\n",
    "    solution = solve((myEqns), (Vars), dict=False)\n",
    "    print(\"\\n\")\n",
    "    print(20*\"-\")\n",
    "\n",
    "    for key,value in solution.items():\n",
    "        print(f\"{key} = {value.evalf():.3}\")\n",
    "    # print(solution)\n",
    "    print(20*\"-\")\n"
   ]
  },
  {
   "cell_type": "markdown",
   "metadata": {},
   "source": [
    "from sympy import symbols, Eq, solve, pprint, Symbol\n",
    "import os\n",
    "#from sympy import *\n",
    "from math import *\n",
    "\n",
    "\n",
    "def eqn_solver(varsused,*eqns):\n",
    "    Vars = []\n",
    "\n",
    "#     varsused = input(\"Variables seperated by spaces: \")\n",
    "    myVars = varsused.split(\" \")\n",
    "    numEqns = len(myVars)\n",
    "    for myvar in myVars:\n",
    "        myvar = Symbol(str(myvar))\n",
    "        Vars.append(myvar)\n",
    "\n",
    "    myEqns = []\n",
    "    Eqn = []\n",
    "\n",
    "    i = 1\n",
    "    while i < numEqns+1:\n",
    "        #print(\"a\")\n",
    "        eqn = input(f\"Eqn{i}: \")\n",
    "        lhs,rhs = eqn.split(\"=\")\n",
    "\n",
    "        myEqns.append(f\"Eq({lhs},{rhs})\")\n",
    "\n",
    "        i = i+1\n",
    "\n",
    "    solution = solve((myEqns), (Vars), dict=False)\n",
    "    print(\"\\n\")\n",
    "    print(20*\"-\")\n",
    "\n",
    "    for key,value in solution.items():\n",
    "        print(f\"{key} = {value.evalf():.3}\")\n",
    "    # print(solution)\n",
    "    print(20*\"-\")\n"
   ]
  },
  {
   "cell_type": "markdown",
   "metadata": {},
   "source": [
    "# Tips\n",
    "- For trig use `cos(rad(x))` with x being the amount of degrees"
   ]
  },
  {
   "cell_type": "code",
   "execution_count": 6,
   "metadata": {},
   "outputs": [
    {
     "name": "stdout",
     "output_type": "stream",
     "text": [
      "Variables seperated by spaces: a b\n",
      "a\n",
      "Eqn1: a - 3\n",
      "a\n",
      "Eqn2: b = a\n",
      "\n",
      "\n",
      "--------------------\n",
      "a = 3.00\n",
      "b = 3.00\n",
      "--------------------\n"
     ]
    }
   ],
   "source": [
    "eqn_solver()"
   ]
  },
  {
   "cell_type": "code",
   "execution_count": null,
   "metadata": {},
   "outputs": [],
   "source": []
  },
  {
   "cell_type": "code",
   "execution_count": 8,
   "metadata": {},
   "outputs": [
    {
     "data": {
      "application/vnd.jupyter.widget-view+json": {
       "model_id": "d2ad60c696e142e8993c6c706aa23bf4",
       "version_major": 2,
       "version_minor": 0
      },
      "text/plain": [
       "interactive(children=(Text(value='', description='Variables seperated by spaces: '), Button(description='Run I…"
      ]
     },
     "metadata": {},
     "output_type": "display_data"
    },
    {
     "data": {
      "text/plain": [
       "<function __main__.make_vars(varsused)>"
      ]
     },
     "execution_count": 8,
     "metadata": {},
     "output_type": "execute_result"
    }
   ],
   "source": [
    "import ipywidgets as widgets\n",
    "from IPython.display import display\n",
    "#start = widgets.Button(description = \"Solve\")\n",
    "def make_vars(varsused):\n",
    "    myVars = varsused.split(\" \")\n",
    "    numEqns = len(myVars)\n",
    "    for i, eqn in enumerate(myVars):\n",
    "#         print(i)\n",
    "        #print(eqn)\n",
    "        eqn = widgets.Text(description = f\"Equation {i + 1}: \")\n",
    "        display(eqn)\n",
    "    button = widgets.Button(description=\"Solve!\")\n",
    "    output = widgets.Output()\n",
    "\n",
    "    display(button, output)\n",
    "\n",
    "    def on_button_clicked(b):\n",
    "        with output:\n",
    "            print(\"Button clicked.\")\n",
    "            eqn_solver(varsused)\n",
    "            \n",
    "\n",
    "    button.on_click(eqn_solver())\n",
    "    \n",
    "    \n",
    "    \n",
    "    \n",
    "    return myVars\n",
    "#display(start)\n",
    "#start.on_click(eqn_solver())\n",
    "varsused = widgets.Text(description = \"Variables seperated by spaces: \")\n",
    "#display(varsused)\n",
    "#varsused = input(\"Variables seperated by spaces: \")\n",
    "widgets.interact_manual(make_vars,varsused = varsused)\n",
    "# widgets.interact_manual(eqn_solver,make_vars)\n",
    "\n",
    "\n"
   ]
  },
  {
   "cell_type": "code",
   "execution_count": 4,
   "metadata": {},
   "outputs": [
    {
     "data": {
      "application/vnd.jupyter.widget-view+json": {
       "model_id": "5faf5d77ae9847d4a3dc81042b7363d2",
       "version_major": 2,
       "version_minor": 0
      },
      "text/plain": [
       "Button(description='Click Me!', style=ButtonStyle())"
      ]
     },
     "metadata": {},
     "output_type": "display_data"
    },
    {
     "data": {
      "application/vnd.jupyter.widget-view+json": {
       "model_id": "32ab606c75004b568f63a8140b672d8d",
       "version_major": 2,
       "version_minor": 0
      },
      "text/plain": [
       "Output()"
      ]
     },
     "metadata": {},
     "output_type": "display_data"
    }
   ],
   "source": [
    "from IPython.display import display\n",
    "button = widgets.Button(description=\"Click Me!\")\n",
    "output = widgets.Output()\n",
    "\n",
    "display(button, output)\n",
    "\n",
    "def on_button_clicked(b):\n",
    "    with output:\n",
    "        print(\"Button clicked.\")\n",
    "\n",
    "button.on_click(on_button_clicked)"
   ]
  },
  {
   "cell_type": "code",
   "execution_count": 5,
   "metadata": {},
   "outputs": [
    {
     "ename": "AttributeError",
     "evalue": "'Text' object has no attribute 'split'",
     "output_type": "error",
     "traceback": [
      "\u001b[0;31m---------------------------------------------------------------------------\u001b[0m",
      "\u001b[0;31mAttributeError\u001b[0m                            Traceback (most recent call last)",
      "\u001b[0;32m<ipython-input-5-5f93f0fc7442>\u001b[0m in \u001b[0;36m<module>\u001b[0;34m\u001b[0m\n\u001b[1;32m      3\u001b[0m \u001b[0;31m#varsused = input(\"Variables seperated by spaces: \")\u001b[0m\u001b[0;34m\u001b[0m\u001b[0;34m\u001b[0m\u001b[0;34m\u001b[0m\u001b[0m\n\u001b[1;32m      4\u001b[0m \u001b[0mvarsused\u001b[0m \u001b[0;34m=\u001b[0m \u001b[0mwidgets\u001b[0m\u001b[0;34m.\u001b[0m\u001b[0mText\u001b[0m\u001b[0;34m(\u001b[0m\u001b[0mdescription\u001b[0m \u001b[0;34m=\u001b[0m \u001b[0;34m\"Variables seperated by spaces: \"\u001b[0m\u001b[0;34m)\u001b[0m\u001b[0;34m\u001b[0m\u001b[0;34m\u001b[0m\u001b[0m\n\u001b[0;32m----> 5\u001b[0;31m \u001b[0mmyVars\u001b[0m \u001b[0;34m=\u001b[0m \u001b[0mvarsused\u001b[0m\u001b[0;34m.\u001b[0m\u001b[0msplit\u001b[0m\u001b[0;34m(\u001b[0m\u001b[0;34m\" \"\u001b[0m\u001b[0;34m)\u001b[0m\u001b[0;34m\u001b[0m\u001b[0;34m\u001b[0m\u001b[0m\n\u001b[0m\u001b[1;32m      6\u001b[0m \u001b[0mwidgets\u001b[0m\u001b[0;34m.\u001b[0m\u001b[0minteract_manual\u001b[0m\u001b[0;34m(\u001b[0m\u001b[0meqn_solver\u001b[0m\u001b[0;34m,\u001b[0m\u001b[0mvarsused\u001b[0m \u001b[0;34m=\u001b[0m \u001b[0mvarsused\u001b[0m\u001b[0;34m)\u001b[0m\u001b[0;34m\u001b[0m\u001b[0;34m\u001b[0m\u001b[0m\n",
      "\u001b[0;31mAttributeError\u001b[0m: 'Text' object has no attribute 'split'"
     ]
    }
   ],
   "source": [
    "import ipywidgets as widgets\n",
    "\n",
    "#varsused = input(\"Variables seperated by spaces: \")\n",
    "varsused = widgets.Text(description = \"Variables seperated by spaces: \")\n",
    "myVars = varsused.split(\" \")\n",
    "widgets.interact_manual(eqn_solver,varsused = varsused)\n"
   ]
  },
  {
   "cell_type": "code",
   "execution_count": null,
   "metadata": {},
   "outputs": [],
   "source": [
    "num_eqns = widgets.IntText(placeholder = '1',description='Equations')"
   ]
  },
  {
   "cell_type": "code",
   "execution_count": null,
   "metadata": {},
   "outputs": [],
   "source": [
    "help(deg)"
   ]
  },
  {
   "cell_type": "code",
   "execution_count": null,
   "metadata": {},
   "outputs": [],
   "source": [
    "import re\n",
    "b = \"a_b = 3\"\n",
    "pattern = re.compile(r' \\s')\n",
    "matches = pattern.finditer(b)\n",
    "for match in matches:\n",
    "    print(match)\n",
    "    "
   ]
  }
 ],
 "metadata": {
  "kernelspec": {
   "display_name": "Python 3",
   "language": "python",
   "name": "python3"
  },
  "language_info": {
   "codemirror_mode": {
    "name": "ipython",
    "version": 3
   },
   "file_extension": ".py",
   "mimetype": "text/x-python",
   "name": "python",
   "nbconvert_exporter": "python",
   "pygments_lexer": "ipython3",
   "version": "3.8.5"
  }
 },
 "nbformat": 4,
 "nbformat_minor": 4
}
