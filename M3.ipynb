{
 "cells": [
  {
   "cell_type": "code",
   "execution_count": 1,
   "metadata": {},
   "outputs": [],
   "source": [
    "from M1_equations import *\n",
    "\n",
    "import pint\n",
    "u = pint.UnitRegistry()\n",
    "Q = u.Quantity\n"
   ]
  },
  {
   "cell_type": "markdown",
   "metadata": {},
   "source": [
    "# Example 3.1"
   ]
  },
  {
   "cell_type": "code",
   "execution_count": 2,
   "metadata": {},
   "outputs": [],
   "source": [
    "def hole_size(bolt_size):\n",
    "    if bolt_size < 1 * u.inch:\n",
    "        return bolt_size + 1/8 * u.inch\n",
    "    else:\n",
    "        return bolt_size + 3/16 * u.inch"
   ]
  },
  {
   "cell_type": "code",
   "execution_count": 3,
   "metadata": {},
   "outputs": [],
   "source": [
    "# LRFD\n",
    "def LRFD_factor(load,load_type):\n",
    "    if load_type == \"yield\":\n",
    "        return 0.9 * load\n",
    "    if load_type == \"rupture\":\n",
    "        return 0.75 * load\n",
    "    "
   ]
  },
  {
   "cell_type": "code",
   "execution_count": 4,
   "metadata": {},
   "outputs": [],
   "source": [
    "# ASD\n",
    "def ASD_factor(load,area,load_type,section_type):\n",
    "    if section_type == \"gross\":\n",
    "        if load_type == \"yield\":\n",
    "            return 0.6 * load * area\n",
    "        if load_type == \"rupture\":\n",
    "            return 0.5 * load * area\n",
    "    if section_type == \"net\":\n",
    "        if load_type == \"yield\":\n",
    "            return 0.6 * load\n",
    "        if load_type == \"rupture\":\n",
    "            return 0.5 * load"
   ]
  },
  {
   "cell_type": "code",
   "execution_count": 5,
   "metadata": {},
   "outputs": [
    {
     "name": "stdout",
     "output_type": "stream",
     "text": [
      "d_hole = 0.75 inch\n",
      "A_hole = 0.375 inch ** 2\n"
     ]
    }
   ],
   "source": [
    "w_plate = (1/2 * u.inch)\n",
    "h_plate = (5 * u.inch)\n",
    "# steel = \"A36\"\n",
    "F_y = 36 * u.kips\n",
    "holes = 4\n",
    "bolt_size = 5/8 * u.inch\n",
    "d_hole = hole_size(bolt_size)\n",
    "\n",
    "A_hole = w_plate * d_hole\n",
    "#A_hole = circular_area(d_hole)\n",
    "\n",
    "print(f\"d_hole = {d_hole:.3}\")\n",
    "print(f\"A_hole = {A_hole:.3}\")\n",
    "\n",
    "#holes = 4, 5/8 * u.inch"
   ]
  },
  {
   "cell_type": "code",
   "execution_count": 6,
   "metadata": {},
   "outputs": [
    {
     "data": {
      "text/html": [
       "2.5 inch<sup>2</sup>"
      ],
      "text/latex": [
       "$2.5\\ \\mathrm{inch}^{2}$"
      ],
      "text/plain": [
       "2.5 <Unit('inch ** 2')>"
      ]
     },
     "execution_count": 6,
     "metadata": {},
     "output_type": "execute_result"
    }
   ],
   "source": [
    "A_g =  w_plate * h_plate\n",
    "A_g"
   ]
  },
  {
   "cell_type": "markdown",
   "metadata": {},
   "source": [
    "Nominal strength"
   ]
  },
  {
   "cell_type": "code",
   "execution_count": 7,
   "metadata": {},
   "outputs": [
    {
     "data": {
      "text/html": [
       "90.0 inch<sup>2</sup> kip"
      ],
      "text/latex": [
       "$90.0\\ \\mathrm{inch}^{2} \\cdot \\mathrm{kip}$"
      ],
      "text/plain": [
       "90.0 <Unit('inch ** 2 * kip')>"
      ]
     },
     "execution_count": 7,
     "metadata": {},
     "output_type": "execute_result"
    }
   ],
   "source": [
    "#F_y = 36 * u.lbs\n",
    "P_n = F_y * A_g\n",
    "P_n"
   ]
  },
  {
   "cell_type": "markdown",
   "metadata": {},
   "source": [
    "For rupture of the net section"
   ]
  },
  {
   "cell_type": "code",
   "execution_count": 8,
   "metadata": {},
   "outputs": [
    {
     "name": "stdout",
     "output_type": "stream",
     "text": [
      "0.75 inch ** 2\n"
     ]
    },
    {
     "data": {
      "text/html": [
       "1.75 inch<sup>2</sup>"
      ],
      "text/latex": [
       "$1.75\\ \\mathrm{inch}^{2}$"
      ],
      "text/plain": [
       "1.75 <Unit('inch ** 2')>"
      ]
     },
     "execution_count": 8,
     "metadata": {},
     "output_type": "execute_result"
    }
   ],
   "source": [
    "A_holes = A_hole * 2\n",
    "print(A_holes)\n",
    "A_n = A_g - A_holes\n",
    "A_n"
   ]
  },
  {
   "cell_type": "code",
   "execution_count": 9,
   "metadata": {},
   "outputs": [
    {
     "data": {
      "text/html": [
       "63.0 inch<sup>2</sup> kip"
      ],
      "text/latex": [
       "$63.0\\ \\mathrm{inch}^{2} \\cdot \\mathrm{kip}$"
      ],
      "text/plain": [
       "63.0 <Unit('inch ** 2 * kip')>"
      ]
     },
     "execution_count": 9,
     "metadata": {},
     "output_type": "execute_result"
    }
   ],
   "source": [
    "A_e = A_n\n",
    "F_u = F_y\n",
    "P_n = F_u * A_e\n",
    "P_n"
   ]
  },
  {
   "cell_type": "code",
   "execution_count": 14,
   "metadata": {},
   "outputs": [
    {
     "name": "stdout",
     "output_type": "stream",
     "text": [
      "56.7 inch ** 2 * kip\n"
     ]
    }
   ],
   "source": [
    "#LRFD_factor(load,load_type)\n",
    "LRFD_y = LRFD_factor(P_n,\"yield\")\n",
    "print(LRFD_y)"
   ]
  }
 ],
 "metadata": {
  "kernelspec": {
   "display_name": "Python 3",
   "language": "python",
   "name": "python3"
  },
  "language_info": {
   "codemirror_mode": {
    "name": "ipython",
    "version": 3
   },
   "file_extension": ".py",
   "mimetype": "text/x-python",
   "name": "python",
   "nbconvert_exporter": "python",
   "pygments_lexer": "ipython3",
   "version": "3.8.5"
  }
 },
 "nbformat": 4,
 "nbformat_minor": 4
}
