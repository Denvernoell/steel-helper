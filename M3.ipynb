{
 "cells": [
  {
   "cell_type": "code",
   "execution_count": 1,
   "metadata": {},
   "outputs": [],
   "source": [
    "from M1_equations import *\n",
    "\n",
    "import pint\n",
    "u = pint.UnitRegistry()\n",
    "Q = u.Quantity\n"
   ]
  },
  {
   "cell_type": "code",
   "execution_count": 2,
   "metadata": {},
   "outputs": [],
   "source": [
    "def hole_size(bolt_size):\n",
    "    if bolt_size < 1 * u.inch:\n",
    "        return bolt_size + 1/8 * u.inch\n",
    "    else:\n",
    "        return bolt_size + 3/16 * u.inch"
   ]
  },
  {
   "cell_type": "code",
   "execution_count": 3,
   "metadata": {},
   "outputs": [],
   "source": [
    "def design_strength(system,strength,load_type):\n",
    "    if system == \"LRFD\":\n",
    "        if load_type == \"yield\":\n",
    "            return 0.9 * strength\n",
    "        if load_type == \"rupture\":\n",
    "            return 0.75 * strength\n",
    "    if system == \"ASD\":\n",
    "            if load_type == \"yield\":\n",
    "                return 0.6 * strength\n",
    "            if load_type == \"rupture\":\n",
    "                return 0.5 * strength"
   ]
  },
  {
   "cell_type": "markdown",
   "metadata": {},
   "source": [
    "# Example 3.1"
   ]
  },
  {
   "cell_type": "code",
   "execution_count": 4,
   "metadata": {},
   "outputs": [],
   "source": [
    "w_plate = (1/2 * u.inch)\n",
    "h_plate = (5 * u.inch)\n",
    "# steel = \"A36\"\n",
    "#from steel bible\n",
    "F_y = 36 * u.kips\n",
    "F_u = 58 * u.kips\n",
    "\n",
    "num_holes = 2\n",
    "bolt_size = 5/8 * u.inch\n",
    "\n",
    "effective_factor = 1"
   ]
  },
  {
   "cell_type": "markdown",
   "metadata": {},
   "source": [
    "# Example 3.2"
   ]
  },
  {
   "cell_type": "code",
   "execution_count": 5,
   "metadata": {},
   "outputs": [],
   "source": [
    "w_plate = (3/8 * u.inch)\n",
    "# h_plate = (5 * u.inch)\n",
    "# steel = \"A36\"\n",
    "#from steel bible\n",
    "F_y = 36 * u.kips\n",
    "F_u = 58 * u.kips\n",
    "#L 3.5 x 3.5 x 3/8\n",
    "A_g = 2.5 * u.inch * u.inch\n",
    "num_holes = 1\n",
    "bolt_size = 7/8 * u.inch\n",
    "\n",
    "effective_factor = .85"
   ]
  },
  {
   "cell_type": "code",
   "execution_count": 6,
   "metadata": {},
   "outputs": [
    {
     "data": {
      "text/html": [
       "2.5 inch<sup>2</sup>"
      ],
      "text/latex": [
       "$2.5\\ \\mathrm{inch}^{2}$"
      ],
      "text/plain": [
       "2.5 <Unit('inch ** 2')>"
      ]
     },
     "execution_count": 6,
     "metadata": {},
     "output_type": "execute_result"
    }
   ],
   "source": [
    "if A_g == 0:\n",
    "    A_g =  w_plate * h_plate\n",
    "A_g"
   ]
  },
  {
   "cell_type": "code",
   "execution_count": 7,
   "metadata": {},
   "outputs": [
    {
     "name": "stdout",
     "output_type": "stream",
     "text": [
      "d_hole = 1.0 inch\n",
      "A_hole = 0.375 inch ** 2\n"
     ]
    }
   ],
   "source": [
    "d_hole = hole_size(bolt_size)\n",
    "A_hole = w_plate * d_hole\n",
    "\n",
    "print(f\"d_hole = {d_hole:.3}\")\n",
    "print(f\"A_hole = {A_hole:.3}\")\n",
    "\n",
    "#holes = 4, 5/8 * u.inch"
   ]
  },
  {
   "cell_type": "markdown",
   "metadata": {},
   "source": [
    "Nominal strength"
   ]
  },
  {
   "cell_type": "code",
   "execution_count": 9,
   "metadata": {},
   "outputs": [
    {
     "name": "stdout",
     "output_type": "stream",
     "text": [
      "Nominal strength gross= 90.0 inch ** 2 * kip\n"
     ]
    }
   ],
   "source": [
    "#F_y = 36 * u.lbs\n",
    "P_n_gross = F_y * A_g\n",
    "\n",
    "print(f\"Nominal strength gross= {P_n_gross}\")\n",
    "\n",
    "#For rupture of the net section"
   ]
  },
  {
   "cell_type": "code",
   "execution_count": 10,
   "metadata": {},
   "outputs": [
    {
     "data": {
      "text/html": [
       "2.125 inch<sup>2</sup>"
      ],
      "text/latex": [
       "$2.125\\ \\mathrm{inch}^{2}$"
      ],
      "text/plain": [
       "2.125 <Unit('inch ** 2')>"
      ]
     },
     "execution_count": 10,
     "metadata": {},
     "output_type": "execute_result"
    }
   ],
   "source": [
    "A_holes = A_hole * num_holes\n",
    "# print(A_holes)\n",
    "A_n = A_g - A_holes\n",
    "A_n"
   ]
  },
  {
   "cell_type": "code",
   "execution_count": 14,
   "metadata": {},
   "outputs": [
    {
     "name": "stdout",
     "output_type": "stream",
     "text": [
      "Nominal strength net = P_n_net=1.05e+02 inch ** 2 * kip\n"
     ]
    }
   ],
   "source": [
    "A_e = A_n\n",
    "# F_u = F_y\n",
    "P_n_net = F_u * A_e \n",
    "#assume effective net area is 85% of computed net area\n",
    "P_n_net *= effective_factor\n",
    "print(f\"Nominal strength net = {P_n_net:.3}\")"
   ]
  },
  {
   "cell_type": "markdown",
   "metadata": {},
   "source": [
    "`design_strength(system,strength,load_type)`"
   ]
  },
  {
   "cell_type": "code",
   "execution_count": 12,
   "metadata": {},
   "outputs": [
    {
     "name": "stdout",
     "output_type": "stream",
     "text": [
      "Yield strength = 81.0 inch ** 2 * kip\n",
      "Rupture strength = 78.6 inch ** 2 * kip\n"
     ]
    }
   ],
   "source": [
    "LRFD_y = design_strength(\"LRFD\",P_n_gross,\"yield\")\n",
    "LRFD_r = design_strength(\"LRFD\",P_n_net,\"rupture\")\n",
    "\n",
    "print(f\"Yield strength = {LRFD_y:.3}\")\n",
    "print(f\"Rupture strength = {LRFD_r:.3}\")"
   ]
  },
  {
   "cell_type": "code",
   "execution_count": 13,
   "metadata": {},
   "outputs": [
    {
     "name": "stdout",
     "output_type": "stream",
     "text": [
      "Yeild strength = 54.0 inch ** 2 * kip\n",
      "Rupture strength = 52.4 inch ** 2 * kip\n"
     ]
    }
   ],
   "source": [
    "ASD_y = design_strength(\"ASD\",P_n_gross,\"yield\")\n",
    "ASD_r = design_strength(\"ASD\",P_n_net,\"rupture\")\n",
    "\n",
    "print(f\"Yeild strength = {ASD_y:.3}\")\n",
    "print(f\"Rupture strength = {ASD_r:.3}\")\n"
   ]
  },
  {
   "cell_type": "code",
   "execution_count": null,
   "metadata": {},
   "outputs": [],
   "source": []
  },
  {
   "cell_type": "code",
   "execution_count": null,
   "metadata": {},
   "outputs": [],
   "source": []
  }
 ],
 "metadata": {
  "kernelspec": {
   "display_name": "Python 3",
   "language": "python",
   "name": "python3"
  },
  "language_info": {
   "codemirror_mode": {
    "name": "ipython",
    "version": 3
   },
   "file_extension": ".py",
   "mimetype": "text/x-python",
   "name": "python",
   "nbconvert_exporter": "python",
   "pygments_lexer": "ipython3",
   "version": "3.8.5"
  }
 },
 "nbformat": 4,
 "nbformat_minor": 4
}
